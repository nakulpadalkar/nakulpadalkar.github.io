{
 "cells": [
  {
   "cell_type": "markdown",
   "id": "1a0afc28",
   "metadata": {},
   "source": [
    "---\n",
    "title: \"Assignment 01\"\n",
    "subtitle: \"System Information Proof\"\n",
    "date: today\n",
    "date-format: long\n",
    "author: \"Nakul Padalkar\"\n",
    "format: \n",
    "  html:\n",
    "    toc: true\n",
    "  pdf: default\n",
    "  docx: default\n",
    "---"
   ]
  },
  {
   "cell_type": "code",
   "execution_count": 1,
   "id": "31d1a4d7",
   "metadata": {},
   "outputs": [
    {
     "name": "stdout",
     "output_type": "stream",
     "text": [
      "Operating System: Windows 11\n",
      "Python Version: 3.12.10\n",
      "PySpark Version: 4.0.0\n",
      "Machine: AMD64\n",
      "Processor: AMD64 Family 25 Model 33 Stepping 2, AuthenticAMD\n",
      "Total Memory (MB): 130997.28\n",
      "Available Memory (MB): 93863.45\n"
     ]
    }
   ],
   "source": [
    "import platform\n",
    "import psutil\n",
    "import pyspark \n",
    "\n",
    "print(\"Operating System:\", platform.system(), platform.release())\n",
    "print(\"Python Version:\", platform.python_version())\n",
    "print(f\"PySpark Version: {pyspark.__version__}\")\n",
    "print(\"Machine:\", platform.machine())\n",
    "print(\"Processor:\", platform.processor())\n",
    "\n",
    "mem = psutil.virtual_memory()\n",
    "print(\"Total Memory (MB):\", round(mem.total / (1024**2), 2))\n",
    "print(\"Available Memory (MB):\", round(mem.available / (1024**2), 2))"
   ]
  }
 ],
 "metadata": {
  "kernelspec": {
   "display_name": "Python 3 (ipykernel)",
   "language": "python",
   "name": "python3",
   "path": "C:\\Program Files\\Python312\\share\\jupyter\\kernels\\python3"
  },
  "language_info": {
   "codemirror_mode": {
    "name": "ipython",
    "version": 3
   },
   "file_extension": ".py",
   "mimetype": "text/x-python",
   "name": "python",
   "nbconvert_exporter": "python",
   "pygments_lexer": "ipython3",
   "version": "3.12.10"
  }
 },
 "nbformat": 4,
 "nbformat_minor": 5
}
